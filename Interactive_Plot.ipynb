{
 "cells": [
  {
   "cell_type": "code",
   "execution_count": 1,
   "id": "03d0bead",
   "metadata": {
    "jupyter": {
     "source_hidden": true
    },
    "tags": []
   },
   "outputs": [
    {
     "data": {
      "application/vnd.jupyter.widget-view+json": {
       "model_id": "8fe565cd4fbf476e83053634f117e358",
       "version_major": 2,
       "version_minor": 0
      },
      "text/plain": [
       "HBox(children=(Output(), VBox(children=(FloatSlider(value=0.55, description='Farmer Gross Margin:', max=0.99, …"
      ]
     },
     "metadata": {},
     "output_type": "display_data"
    }
   ],
   "source": [
    "import numpy as np\n",
    "import matplotlib.pyplot as plt\n",
    "import ipywidgets as widgets\n",
    "from IPython.display import display\n",
    "\n",
    "isolate_potency = 0.99\n",
    "\n",
    "def hemp_price_per_lb(hemp_mass_per_acre, cost_of_farming_per_acre, farmer_gross_margin):\n",
    "    return (cost_of_farming_per_acre / hemp_mass_per_acre) / (1 - farmer_gross_margin)\n",
    "\n",
    "def required_potency(hemp_price, process_cost, processor_gross_margin, isolate_potency, target_isolate_price):\n",
    "    return (hemp_price * 2.2) / (((1 - processor_gross_margin) * isolate_potency * target_isolate_price)-process_cost)\n",
    "\n",
    "def update_plot(farmer_gross_margin, process_cost, processor_gross_margin, target_isolate_price, manual_contour,cost_per_acre_max,mass_per_acre_max):\n",
    "    hemp_mass_per_acre_vals2 = np.linspace(500, mass_per_acre_max,101)        # lbs hemp per acre\n",
    "    cost_of_farming_per_acre_vals2 = np.linspace(500,cost_per_acre_max, 101)  # USD per acre to grow hemp\n",
    "    hemp_mass_grid2, cost_of_farming_grid2 = np.meshgrid(hemp_mass_per_acre_vals2, cost_of_farming_per_acre_vals2)\n",
    "    hemp_price_per_lb_val = hemp_price_per_lb(hemp_mass_grid2, cost_of_farming_grid2, farmer_gross_margin)\n",
    "    required_potency_val = required_potency(hemp_price_per_lb_val, process_cost, processor_gross_margin, isolate_potency, target_isolate_price)\n",
    "    \n",
    "    if manual_contour < 0.05:\n",
    "        contour_levels2 = [manual_contour,0.05,0.10,0.15]\n",
    "    elif manual_contour > 0.05 and manual_contour < 0.10:\n",
    "        contour_levels2 = [0.05,manual_contour,0.10,0.15]\n",
    "    elif manual_contour > 0.10 and manual_contour < 0.15:\n",
    "        contour_levels2 = [0.05,0.10,manual_contour,0.15]\n",
    "    elif manual_contour > 0.15:\n",
    "        contour_levels2 = [0.05,0.10,0.15,manual_contour]\n",
    "    else:\n",
    "        contour_levels2 = [0.05,0.10,0.15]\n",
    "\n",
    "    plt.figure(figsize=(8,6))\n",
    "    cp2 = plt.contour(hemp_mass_grid2, cost_of_farming_grid2, required_potency_val, levels=contour_levels2, colors='k')\n",
    "    plt.clabel(cp2, inline=True, fontsize=8, fmt='%1.3f')\n",
    "    plt.title(\"Potency Required to Meet $200/kg CBD Isolate Price\")\n",
    "    plt.xlabel(\"Hemp Mass per Acre (lb/acre)\")\n",
    "    plt.ylabel(\"Farming Cost per Acre (USD/acre)\")\n",
    "    plt.grid(True)\n",
    "    plt.show()\n",
    "\n",
    "widget_font = {'description_width': 'initial', 'font-size': 'small'}\n",
    "slider1 = widgets.FloatSlider(min=0.0, max=0.99, step=0.01, value=0.55, description='Farmer Gross Margin:', style=widget_font)\n",
    "slider2 = widgets.FloatSlider(min=70, max=110, step=1, value=85, description='Process Cost:', style=widget_font)\n",
    "slider3 = widgets.FloatSlider(min=0.0, max=0.99, step=0.01, value=0.38, description='Processor Gross Margin:', style=widget_font)\n",
    "slider4 = widgets.FloatSlider(min=180, max=250, step=5, value=200, description='Target Isolate Price:', style=widget_font)\n",
    "slider5 = widgets.FloatSlider(min=0, max=0.2, step=0.005, value=0.06, description='Manual Potency Line:', style=widget_font)\n",
    "slider6 = widgets.FloatSlider(min=1000, max=3000, step=50, value=1500, description='Cost per Acre Max:', style=widget_font)\n",
    "slider7 = widgets.FloatSlider(min=1000, max=3000, step=50, value=1800, description='Mass per Acre Max:', style=widget_font)\n",
    "\n",
    "interactive_plot_output = widgets.interactive_output(update_plot, {'farmer_gross_margin': slider1, 'process_cost': slider2, 'processor_gross_margin': slider3, 'target_isolate_price': slider4, 'manual_contour': slider5, 'cost_per_acre_max': slider6, 'mass_per_acre_max': slider7})\n",
    "slider_box = widgets.VBox([slider1, slider2, slider3, slider4, slider5, slider6, slider7])\n",
    "widgets.HBox([interactive_plot_output, slider_box])\n"
   ]
  }
 ],
 "metadata": {
  "kernelspec": {
   "display_name": "Python 3 (ipykernel)",
   "language": "python",
   "name": "python3"
  },
  "language_info": {
   "codemirror_mode": {
    "name": "ipython",
    "version": 3
   },
   "file_extension": ".py",
   "mimetype": "text/x-python",
   "name": "python",
   "nbconvert_exporter": "python",
   "pygments_lexer": "ipython3",
   "version": "3.10.9"
  },
  "toc-autonumbering": true,
  "toc-showcode": false,
  "toc-showmarkdowntxt": true
 },
 "nbformat": 4,
 "nbformat_minor": 5
}
